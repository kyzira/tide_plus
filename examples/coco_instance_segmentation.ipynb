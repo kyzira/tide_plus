{
 "cells": [
  {
   "cell_type": "markdown",
   "metadata": {},
   "source": [
    "# TIDE COCO Example\n",
    "This example downloads some Mask R-CNN results files from [detectron](https://github.com/facebookresearch/Detectron/blob/master/MODEL_ZOO.md) and then evaluates them using the COCO dataset."
   ]
  },
  {
   "cell_type": "markdown",
   "metadata": {},
   "source": [
    "### Grabbing Mask R-CNN results\n",
    "For demonstration purposes, we'll be using Mask R-CNN results (Model ID 36229740), but you'll want to use your own results in practice."
   ]
  },
  {
   "cell_type": "code",
   "execution_count": 1,
   "metadata": {},
   "outputs": [
    {
     "name": "stdout",
     "output_type": "stream",
     "text": [
      "Results Downloaded!\n"
     ]
    }
   ],
   "source": [
    "# Download the Mask R-CNN results to test on. Only for demonstration purposes.\n",
    "import urllib.request # For downloading the sample Mask R-CNN annotations\n",
    "\n",
    "bbox_file = 'mask_rcnn_bbox.json'\n",
    "mask_file = 'mask_rcnn_mask.json'\n",
    "\n",
    "urllib.request.urlretrieve('https://dl.fbaipublicfiles.com/detectron/35861795/12_2017_baselines/e2e_mask_rcnn_R-101-FPN_1x.yaml.02_31_37.KqyEK4tT/output/test/coco_2014_minival/generalized_rcnn/bbox_coco_2014_minival_results.json', bbox_file)\n",
    "urllib.request.urlretrieve('https://dl.fbaipublicfiles.com/detectron/35861795/12_2017_baselines/e2e_mask_rcnn_R-101-FPN_1x.yaml.02_31_37.KqyEK4tT/output/test/coco_2014_minival/generalized_rcnn/segmentations_coco_2014_minival_results.json', mask_file)\n",
    "\n",
    "print('Results Downloaded!')"
   ]
  },
  {
   "cell_type": "markdown",
   "metadata": {},
   "source": [
    "### Running TIDE"
   ]
  },
  {
   "cell_type": "code",
   "execution_count": 2,
   "metadata": {},
   "outputs": [],
   "source": [
    "# Import the TIDE evaluation toolkit\n",
    "import sys\n",
    "sys.path.append('..')\n",
    "from tidecv import TIDE\n",
    "\n",
    "# Import the datasets we want to use\n",
    "import tidecv.datasets as datasets"
   ]
  },
  {
   "cell_type": "code",
   "execution_count": 3,
   "metadata": {},
   "outputs": [],
   "source": [
    "# Load the dataset\n",
    "# This will automatically download COCO's 2017 annotations for you. You can specify your own COCO-style dataset too!\n",
    "# See datasets.py for a list of all the supported datasets.\n",
    "gt = datasets.COCO()"
   ]
  },
  {
   "cell_type": "code",
   "execution_count": 4,
   "metadata": {},
   "outputs": [],
   "source": [
    "# Load the results in COCO format\n",
    "bbox_results = datasets.COCOResult(bbox_file) # These files were downloaded above.\n",
    "mask_results = datasets.COCOResult(mask_file) # Replace them with your own in practice."
   ]
  },
  {
   "cell_type": "code",
   "execution_count": 5,
   "metadata": {},
   "outputs": [],
   "source": [
    "# Create a TIDE object to use for evaluation\n",
    "tide = TIDE()"
   ]
  },
  {
   "cell_type": "code",
   "execution_count": 6,
   "metadata": {},
   "outputs": [],
   "source": [
    "# Run the evaluations on the standard COCO metrics (i.e., a range of AP with IoU thresholds [50:95])\n",
    "if False:\n",
    "    tide.evaluate(gt, bbox_results) # Several options are available here, see the functions\n",
    "    tide.evaluate(gt, mask_results) # evaluate and evaluate_range for more details.\n",
    "else:\n",
    "    tide.evaluate_multiple_models_on_one_gt(gt, [bbox_results, mask_results])\n",
    "    tide.average_out_summary()"
   ]
  },
  {
   "cell_type": "code",
   "execution_count": 7,
   "metadata": {},
   "outputs": [
    {
     "name": "stdout",
     "output_type": "stream",
     "text": [
      "-- mask_rcnn_bbox --\n",
      "\n",
      "mAP 50:95: 40.01\n",
      "                                    Threshold AP @\n",
      "=======================================================================================\n",
      "  Thresh     50      55      60      65      70      75      80      85      90     95  \n",
      "---------------------------------------------------------------------------------------\n",
      "    AP     61.8   59.76   57.07   53.72   49.59   43.66   35.87   25.77   11.68   1.19  \n",
      "=======================================================================================\n",
      "                  Main Errors\n",
      "================================================\n",
      "  Type   Cls    Loc   Both   Dupe    Bkg   Miss  \n",
      "------------------------------------------------\n",
      "   dAP   3.4   6.65   1.18   0.19   3.96   7.53  \n",
      "================================================\n",
      "       Special Errors\n",
      "=============================\n",
      "  Type   FalsePos   FalseNeg  \n",
      "-----------------------------\n",
      "   dAP      16.28      15.57  \n",
      "=============================\n",
      "Precision: 21.16 | Recall: 78.41\n",
      "AP (Small): 28.06 | AR (Small): 46.68\n",
      "AP (Medium): 55.95 | AR (Medium): 73.7\n",
      "AP (Large): 73.0 | AR (Large): 85.69\n",
      "\n",
      "-- mask_rcnn_mask --\n",
      "\n",
      "mAP 50:95: 35.92\n",
      "                                    Threshold AP @\n",
      "======================================================================================\n",
      "  Thresh     50      55      60      65      70      75      80      85     90     95  \n",
      "--------------------------------------------------------------------------------------\n",
      "    AP     58.3   55.61   52.48   48.82   44.05   37.95   30.33   20.96   9.54   1.17  \n",
      "======================================================================================\n",
      "                   Main Errors\n",
      "=================================================\n",
      "  Type    Cls    Loc   Both   Dupe    Bkg   Miss  \n",
      "-------------------------------------------------\n",
      "   dAP   3.05   9.38   0.58   0.32   4.31   7.43  \n",
      "=================================================\n",
      "       Special Errors\n",
      "=============================\n",
      "  Type   FalsePos   FalseNeg  \n",
      "-----------------------------\n",
      "   dAP       15.5      18.03  \n",
      "=============================\n",
      "Precision: 19.81 | Recall: 74.01\n",
      "AP (Small): 25.38 | AR (Small): 47.62\n",
      "AP (Medium): 43.54 | AR (Medium): 57.31\n",
      "AP (Large): 52.52 | AR (Large): 60.21\n",
      "\n",
      "-- Combined Average --\n",
      "\n",
      "mAP 50:95: 37.97\n",
      "                                    Threshold AP @\n",
      "======================================================================================\n",
      "  Thresh      50      55      60      65      70     75     80      85      90     95  \n",
      "--------------------------------------------------------------------------------------\n",
      "    AP     60.05   57.69   54.77   51.27   46.82   40.8   33.1   23.37   10.61   1.18  \n",
      "======================================================================================\n",
      "                   Main Errors\n",
      "=================================================\n",
      "  Type    Cls    Loc   Both   Dupe    Bkg   Miss  \n",
      "-------------------------------------------------\n",
      "   dAP   3.22   8.02   0.88   0.26   4.13   7.48  \n",
      "=================================================\n",
      "       Special Errors\n",
      "=============================\n",
      "  Type   FalsePos   FalseNeg  \n",
      "-----------------------------\n",
      "   dAP      15.89       16.8  \n",
      "=============================\n",
      "Precision: 20.48 | Recall: 76.21\n",
      "AP (Small): 26.72 | AR (Small): 47.15\n",
      "AP (Medium): 49.75 | AR (Medium): 65.5\n",
      "AP (Large): 62.76 | AR (Large): 72.95\n",
      "\n"
     ]
    }
   ],
   "source": [
    "# Summarize the evaluations run so far in the console\n",
    "tide.print_summary()"
   ]
  },
  {
   "cell_type": "code",
   "execution_count": 8,
   "metadata": {},
   "outputs": [],
   "source": [
    "# Save the summary to a JSON file\n",
    "tide.save_summary('summary.json')"
   ]
  },
  {
   "cell_type": "code",
   "execution_count": 9,
   "metadata": {},
   "outputs": [
    {
     "name": "stdout",
     "output_type": "stream",
     "text": [
      "All Plots created!\n"
     ]
    }
   ],
   "source": [
    "from tidecv.plotter import Plotter\n",
    "import os\n",
    "\n",
    "main_dir = os.getcwd()\n",
    "out_dir = os.path.join(main_dir, \"Plots\")\n",
    "\n",
    "summary_files = [f for f in os.listdir(main_dir) if f.startswith(\"summary\") and f.endswith(\".json\") and not f.endswith(\"matrices.json\")]\n",
    "\n",
    "plotter = Plotter(summary_files=summary_files, output_dir=out_dir)\n",
    "plotter.run()"
   ]
  }
 ],
 "metadata": {
  "kernelspec": {
   "display_name": "base",
   "language": "python",
   "name": "python3"
  },
  "language_info": {
   "codemirror_mode": {
    "name": "ipython",
    "version": 3
   },
   "file_extension": ".py",
   "mimetype": "text/x-python",
   "name": "python",
   "nbconvert_exporter": "python",
   "pygments_lexer": "ipython3",
   "version": "3.12.4"
  }
 },
 "nbformat": 4,
 "nbformat_minor": 2
}
